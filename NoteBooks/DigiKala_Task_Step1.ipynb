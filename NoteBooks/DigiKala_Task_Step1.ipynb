{
 "cells": [
  {
   "cell_type": "code",
   "execution_count": 1,
   "id": "92c91c47-9278-4673-b1f2-86c02ccf1608",
   "metadata": {},
   "outputs": [],
   "source": [
    "import pandas as pd\n",
    "import numpy as np\n",
    "import re\n",
    "\n",
    "from itertools import combinations\n",
    "from fuzzywuzzy import fuzz\n",
    "\n",
    "import ast\n",
    "\n",
    "from sklearn.cluster import KMeans\n",
    "from sklearn.preprocessing import LabelEncoder\n",
    "\n",
    "import difflib\n",
    "import os"
   ]
  },
  {
   "cell_type": "code",
   "execution_count": 2,
   "id": "da0173ed-4c3e-41e7-a289-bf852e25c872",
   "metadata": {},
   "outputs": [],
   "source": [
    "df = pd.read_csv(\"train.csv\")"
   ]
  },
  {
   "cell_type": "markdown",
   "id": "79e15151-d564-4c22-93dd-35f8e7b3fcad",
   "metadata": {
    "jp-MarkdownHeadingCollapsed": true
   },
   "source": [
    "### Remove wrong chars in dataset using REGEX"
   ]
  },
  {
   "cell_type": "code",
   "execution_count": 3,
   "id": "8f7bc7e1-5063-488b-88f1-269105f53c49",
   "metadata": {},
   "outputs": [],
   "source": [
    "characters_to_remove = ['\\r', '\\n', '\\t']\n",
    "\n",
    "def remove_characters(s):\n",
    "    for char in characters_to_remove:\n",
    "        s = s.replace(char, ' ')\n",
    "    return s\n",
    "\n",
    "def clean_value(value):\n",
    "    if isinstance(value, list):\n",
    "        return [remove_characters(item) if isinstance(item, str) else item for item in value]\n",
    "    else:\n",
    "        return remove_characters(value)\n",
    "\n",
    "def replace_special_sequences(s):\n",
    "    if isinstance(s, str):\n",
    "        # Replace 'w\\\\/' with 'with'\n",
    "        s = s.replace('w\\\\/', 'with')\n",
    "        # Replace '\\\\/' with '/'\n",
    "        s = s.replace('\\\\/', '/')\n",
    "        # Replace '\\\\' with '/'\n",
    "        s = s.replace('\\\\\\\\', '\\/')\n",
    "    return s\n",
    "\n",
    "def remove_u_x(value):\n",
    "    # Remove \\u20 followed by four characters\n",
    "    value = re.sub(r'\\\\u\\w\\w\\w\\w', '', value)\n",
    "    # Remove \\x0 followed by two characters\n",
    "    value = re.sub(r'\\\\x\\w\\w', '', value)\n",
    "    return value\n",
    "\n",
    "def test(x):\n",
    "    dictionary_extracted = ast.literal_eval(x)\n",
    "    cleaned_dict = {remove_characters(key): clean_value(value) for key, value in dictionary_extracted.items()}\n",
    "    return str({replace_special_sequences(key): replace_special_sequences(value) for key, value in cleaned_dict.items()})\n",
    "\n",
    "df[\"product_description\"] = df[\"product_description\"].map(lambda x: remove_u_x(test(x)))\n"
   ]
  },
  {
   "cell_type": "markdown",
   "id": "114f4e70-b104-47cb-884b-1553932236a1",
   "metadata": {
    "jp-MarkdownHeadingCollapsed": true
   },
   "source": [
    "### Get data and columns from original dataset and make a new one"
   ]
  },
  {
   "cell_type": "code",
   "execution_count": 4,
   "id": "45886b08-2b46-417b-a3c3-64bf1437f05b",
   "metadata": {},
   "outputs": [],
   "source": [
    "columns = set()\n",
    "\n",
    "def make_separate(x):\n",
    "    dictionary_extracted = ast.literal_eval(x)\n",
    "    for item in dictionary_extracted.keys():\n",
    "        columns.add(item)\n",
    "    return x    \n",
    "\n",
    "\n",
    "df[\"product_description\"].map(make_separate)\n",
    "new_df_columns = pd.DataFrame(columns=list(columns))\n",
    "# new_df_colmns\n",
    "df = pd.concat([df, new_df_columns], axis=1)"
   ]
  },
  {
   "cell_type": "code",
   "execution_count": 5,
   "id": "3258bf3a-2c80-40b0-85bd-70d7cdfe7c4d",
   "metadata": {},
   "outputs": [
    {
     "data": {
      "text/html": [
       "<div>\n",
       "<style scoped>\n",
       "    .dataframe tbody tr th:only-of-type {\n",
       "        vertical-align: middle;\n",
       "    }\n",
       "\n",
       "    .dataframe tbody tr th {\n",
       "        vertical-align: top;\n",
       "    }\n",
       "\n",
       "    .dataframe thead th {\n",
       "        text-align: right;\n",
       "    }\n",
       "</style>\n",
       "<table border=\"1\" class=\"dataframe\">\n",
       "  <thead>\n",
       "    <tr style=\"text-align: right;\">\n",
       "      <th></th>\n",
       "      <th>id</th>\n",
       "      <th>product_description</th>\n",
       "      <th>price</th>\n",
       "      <th>IGMP</th>\n",
       "      <th>تعداد فن نصب شده</th>\n",
       "      <th>سازنده مادربرد</th>\n",
       "      <th>کل حافظه گرافیکی</th>\n",
       "      <th>شدت جریان</th>\n",
       "      <th>باس رابط</th>\n",
       "      <th>قابلیتهای تجهیزات ویدیویی</th>\n",
       "      <th>...</th>\n",
       "      <th>نوع دوشاخه برق</th>\n",
       "      <th>جایگاه فن در قسمت پایینی</th>\n",
       "      <th>قدرت موتور</th>\n",
       "      <th>رنگ</th>\n",
       "      <th>ولتاژ</th>\n",
       "      <th>وزن ماوس</th>\n",
       "      <th>ولتاژ اسمی ورودی</th>\n",
       "      <th>توضیحات دوربین</th>\n",
       "      <th>برند</th>\n",
       "      <th>مادربرد</th>\n",
       "    </tr>\n",
       "  </thead>\n",
       "  <tbody>\n",
       "    <tr>\n",
       "      <th>0</th>\n",
       "      <td>0</td>\n",
       "      <td>{'مشخصات فنی': 'متراژ: 150 سانتی متر  پورت یو ...</td>\n",
       "      <td>1080000</td>\n",
       "      <td>NaN</td>\n",
       "      <td>NaN</td>\n",
       "      <td>NaN</td>\n",
       "      <td>NaN</td>\n",
       "      <td>NaN</td>\n",
       "      <td>NaN</td>\n",
       "      <td>NaN</td>\n",
       "      <td>...</td>\n",
       "      <td>NaN</td>\n",
       "      <td>NaN</td>\n",
       "      <td>NaN</td>\n",
       "      <td>NaN</td>\n",
       "      <td>NaN</td>\n",
       "      <td>NaN</td>\n",
       "      <td>NaN</td>\n",
       "      <td>NaN</td>\n",
       "      <td>NaN</td>\n",
       "      <td>NaN</td>\n",
       "    </tr>\n",
       "    <tr>\n",
       "      <th>1</th>\n",
       "      <td>1</td>\n",
       "      <td>{'مشخصات فنی': 'CABLE LENTH:  10feet /3M  PC S...</td>\n",
       "      <td>990000</td>\n",
       "      <td>NaN</td>\n",
       "      <td>NaN</td>\n",
       "      <td>NaN</td>\n",
       "      <td>NaN</td>\n",
       "      <td>NaN</td>\n",
       "      <td>NaN</td>\n",
       "      <td>NaN</td>\n",
       "      <td>...</td>\n",
       "      <td>NaN</td>\n",
       "      <td>NaN</td>\n",
       "      <td>NaN</td>\n",
       "      <td>NaN</td>\n",
       "      <td>NaN</td>\n",
       "      <td>NaN</td>\n",
       "      <td>NaN</td>\n",
       "      <td>NaN</td>\n",
       "      <td>NaN</td>\n",
       "      <td>NaN</td>\n",
       "    </tr>\n",
       "    <tr>\n",
       "      <th>2</th>\n",
       "      <td>2</td>\n",
       "      <td>{'مشخصات فنی': 'نوع کابل: KVM USB  طول کابل: 1...</td>\n",
       "      <td>1680000</td>\n",
       "      <td>NaN</td>\n",
       "      <td>NaN</td>\n",
       "      <td>NaN</td>\n",
       "      <td>NaN</td>\n",
       "      <td>NaN</td>\n",
       "      <td>NaN</td>\n",
       "      <td>NaN</td>\n",
       "      <td>...</td>\n",
       "      <td>NaN</td>\n",
       "      <td>NaN</td>\n",
       "      <td>NaN</td>\n",
       "      <td>NaN</td>\n",
       "      <td>NaN</td>\n",
       "      <td>NaN</td>\n",
       "      <td>NaN</td>\n",
       "      <td>NaN</td>\n",
       "      <td>NaN</td>\n",
       "      <td>NaN</td>\n",
       "    </tr>\n",
       "    <tr>\n",
       "      <th>3</th>\n",
       "      <td>3</td>\n",
       "      <td>{'دسته بندی': 'کابل کمبو', 'برند': 'متفرقه'}</td>\n",
       "      <td>4500000</td>\n",
       "      <td>NaN</td>\n",
       "      <td>NaN</td>\n",
       "      <td>NaN</td>\n",
       "      <td>NaN</td>\n",
       "      <td>NaN</td>\n",
       "      <td>NaN</td>\n",
       "      <td>NaN</td>\n",
       "      <td>...</td>\n",
       "      <td>NaN</td>\n",
       "      <td>NaN</td>\n",
       "      <td>NaN</td>\n",
       "      <td>NaN</td>\n",
       "      <td>NaN</td>\n",
       "      <td>NaN</td>\n",
       "      <td>NaN</td>\n",
       "      <td>NaN</td>\n",
       "      <td>NaN</td>\n",
       "      <td>NaN</td>\n",
       "    </tr>\n",
       "    <tr>\n",
       "      <th>4</th>\n",
       "      <td>4</td>\n",
       "      <td>{'مشخصات فنی': 'کیبورد: 6pin Mini-DIN Male - P...</td>\n",
       "      <td>700000</td>\n",
       "      <td>NaN</td>\n",
       "      <td>NaN</td>\n",
       "      <td>NaN</td>\n",
       "      <td>NaN</td>\n",
       "      <td>NaN</td>\n",
       "      <td>NaN</td>\n",
       "      <td>NaN</td>\n",
       "      <td>...</td>\n",
       "      <td>NaN</td>\n",
       "      <td>NaN</td>\n",
       "      <td>NaN</td>\n",
       "      <td>NaN</td>\n",
       "      <td>NaN</td>\n",
       "      <td>NaN</td>\n",
       "      <td>NaN</td>\n",
       "      <td>NaN</td>\n",
       "      <td>NaN</td>\n",
       "      <td>NaN</td>\n",
       "    </tr>\n",
       "    <tr>\n",
       "      <th>...</th>\n",
       "      <td>...</td>\n",
       "      <td>...</td>\n",
       "      <td>...</td>\n",
       "      <td>...</td>\n",
       "      <td>...</td>\n",
       "      <td>...</td>\n",
       "      <td>...</td>\n",
       "      <td>...</td>\n",
       "      <td>...</td>\n",
       "      <td>...</td>\n",
       "      <td>...</td>\n",
       "      <td>...</td>\n",
       "      <td>...</td>\n",
       "      <td>...</td>\n",
       "      <td>...</td>\n",
       "      <td>...</td>\n",
       "      <td>...</td>\n",
       "      <td>...</td>\n",
       "      <td>...</td>\n",
       "      <td>...</td>\n",
       "      <td>...</td>\n",
       "    </tr>\n",
       "    <tr>\n",
       "      <th>68835</th>\n",
       "      <td>68835</td>\n",
       "      <td>{'دسته بندی': 'شارژر تبلت و موبایل', 'برند': '...</td>\n",
       "      <td>2530000</td>\n",
       "      <td>NaN</td>\n",
       "      <td>NaN</td>\n",
       "      <td>NaN</td>\n",
       "      <td>NaN</td>\n",
       "      <td>NaN</td>\n",
       "      <td>NaN</td>\n",
       "      <td>NaN</td>\n",
       "      <td>...</td>\n",
       "      <td>NaN</td>\n",
       "      <td>NaN</td>\n",
       "      <td>NaN</td>\n",
       "      <td>NaN</td>\n",
       "      <td>NaN</td>\n",
       "      <td>NaN</td>\n",
       "      <td>NaN</td>\n",
       "      <td>NaN</td>\n",
       "      <td>NaN</td>\n",
       "      <td>NaN</td>\n",
       "    </tr>\n",
       "    <tr>\n",
       "      <th>68836</th>\n",
       "      <td>68836</td>\n",
       "      <td>{'دسته بندی': 'شارژر تبلت و موبایل', 'برند': '...</td>\n",
       "      <td>22000000</td>\n",
       "      <td>NaN</td>\n",
       "      <td>NaN</td>\n",
       "      <td>NaN</td>\n",
       "      <td>NaN</td>\n",
       "      <td>NaN</td>\n",
       "      <td>NaN</td>\n",
       "      <td>NaN</td>\n",
       "      <td>...</td>\n",
       "      <td>NaN</td>\n",
       "      <td>NaN</td>\n",
       "      <td>NaN</td>\n",
       "      <td>NaN</td>\n",
       "      <td>NaN</td>\n",
       "      <td>NaN</td>\n",
       "      <td>NaN</td>\n",
       "      <td>NaN</td>\n",
       "      <td>NaN</td>\n",
       "      <td>NaN</td>\n",
       "    </tr>\n",
       "    <tr>\n",
       "      <th>68837</th>\n",
       "      <td>68837</td>\n",
       "      <td>{'دسته بندی': 'شارژر تبلت و موبایل', 'برند': '...</td>\n",
       "      <td>4000000</td>\n",
       "      <td>NaN</td>\n",
       "      <td>NaN</td>\n",
       "      <td>NaN</td>\n",
       "      <td>NaN</td>\n",
       "      <td>NaN</td>\n",
       "      <td>NaN</td>\n",
       "      <td>NaN</td>\n",
       "      <td>...</td>\n",
       "      <td>NaN</td>\n",
       "      <td>NaN</td>\n",
       "      <td>NaN</td>\n",
       "      <td>NaN</td>\n",
       "      <td>NaN</td>\n",
       "      <td>NaN</td>\n",
       "      <td>NaN</td>\n",
       "      <td>NaN</td>\n",
       "      <td>NaN</td>\n",
       "      <td>NaN</td>\n",
       "    </tr>\n",
       "    <tr>\n",
       "      <th>68838</th>\n",
       "      <td>68838</td>\n",
       "      <td>{'کابل همراه': ['لایتنینگ'], 'ولتاژ خروجی': ['...</td>\n",
       "      <td>4300000</td>\n",
       "      <td>NaN</td>\n",
       "      <td>NaN</td>\n",
       "      <td>NaN</td>\n",
       "      <td>NaN</td>\n",
       "      <td>NaN</td>\n",
       "      <td>NaN</td>\n",
       "      <td>NaN</td>\n",
       "      <td>...</td>\n",
       "      <td>NaN</td>\n",
       "      <td>NaN</td>\n",
       "      <td>NaN</td>\n",
       "      <td>NaN</td>\n",
       "      <td>NaN</td>\n",
       "      <td>NaN</td>\n",
       "      <td>NaN</td>\n",
       "      <td>NaN</td>\n",
       "      <td>NaN</td>\n",
       "      <td>NaN</td>\n",
       "    </tr>\n",
       "    <tr>\n",
       "      <th>68839</th>\n",
       "      <td>68839</td>\n",
       "      <td>{'وزن': 'یک سانتیمتر', 'درگاههای ارتباطی': ['P...</td>\n",
       "      <td>950000</td>\n",
       "      <td>NaN</td>\n",
       "      <td>NaN</td>\n",
       "      <td>NaN</td>\n",
       "      <td>NaN</td>\n",
       "      <td>NaN</td>\n",
       "      <td>NaN</td>\n",
       "      <td>NaN</td>\n",
       "      <td>...</td>\n",
       "      <td>NaN</td>\n",
       "      <td>NaN</td>\n",
       "      <td>NaN</td>\n",
       "      <td>NaN</td>\n",
       "      <td>NaN</td>\n",
       "      <td>NaN</td>\n",
       "      <td>NaN</td>\n",
       "      <td>NaN</td>\n",
       "      <td>NaN</td>\n",
       "      <td>NaN</td>\n",
       "    </tr>\n",
       "  </tbody>\n",
       "</table>\n",
       "<p>68840 rows × 1482 columns</p>\n",
       "</div>"
      ],
      "text/plain": [
       "          id                                product_description     price  \\\n",
       "0          0  {'مشخصات فنی': 'متراژ: 150 سانتی متر  پورت یو ...   1080000   \n",
       "1          1  {'مشخصات فنی': 'CABLE LENTH:  10feet /3M  PC S...    990000   \n",
       "2          2  {'مشخصات فنی': 'نوع کابل: KVM USB  طول کابل: 1...   1680000   \n",
       "3          3       {'دسته بندی': 'کابل کمبو', 'برند': 'متفرقه'}   4500000   \n",
       "4          4  {'مشخصات فنی': 'کیبورد: 6pin Mini-DIN Male - P...    700000   \n",
       "...      ...                                                ...       ...   \n",
       "68835  68835  {'دسته بندی': 'شارژر تبلت و موبایل', 'برند': '...   2530000   \n",
       "68836  68836  {'دسته بندی': 'شارژر تبلت و موبایل', 'برند': '...  22000000   \n",
       "68837  68837  {'دسته بندی': 'شارژر تبلت و موبایل', 'برند': '...   4000000   \n",
       "68838  68838  {'کابل همراه': ['لایتنینگ'], 'ولتاژ خروجی': ['...   4300000   \n",
       "68839  68839  {'وزن': 'یک سانتیمتر', 'درگاههای ارتباطی': ['P...    950000   \n",
       "\n",
       "      IGMP تعداد فن نصب شده سازنده مادربرد کل حافظه گرافیکی شدت جریان  \\\n",
       "0      NaN              NaN            NaN              NaN       NaN   \n",
       "1      NaN              NaN            NaN              NaN       NaN   \n",
       "2      NaN              NaN            NaN              NaN       NaN   \n",
       "3      NaN              NaN            NaN              NaN       NaN   \n",
       "4      NaN              NaN            NaN              NaN       NaN   \n",
       "...    ...              ...            ...              ...       ...   \n",
       "68835  NaN              NaN            NaN              NaN       NaN   \n",
       "68836  NaN              NaN            NaN              NaN       NaN   \n",
       "68837  NaN              NaN            NaN              NaN       NaN   \n",
       "68838  NaN              NaN            NaN              NaN       NaN   \n",
       "68839  NaN              NaN            NaN              NaN       NaN   \n",
       "\n",
       "      باس رابط قابلیتهای تجهیزات ویدیویی  ... نوع دوشاخه برق  \\\n",
       "0          NaN                       NaN  ...            NaN   \n",
       "1          NaN                       NaN  ...            NaN   \n",
       "2          NaN                       NaN  ...            NaN   \n",
       "3          NaN                       NaN  ...            NaN   \n",
       "4          NaN                       NaN  ...            NaN   \n",
       "...        ...                       ...  ...            ...   \n",
       "68835      NaN                       NaN  ...            NaN   \n",
       "68836      NaN                       NaN  ...            NaN   \n",
       "68837      NaN                       NaN  ...            NaN   \n",
       "68838      NaN                       NaN  ...            NaN   \n",
       "68839      NaN                       NaN  ...            NaN   \n",
       "\n",
       "      جایگاه فن در قسمت پایینی قدرت موتور  رنگ ولتاژ وزن ماوس  \\\n",
       "0                          NaN        NaN  NaN   NaN      NaN   \n",
       "1                          NaN        NaN  NaN   NaN      NaN   \n",
       "2                          NaN        NaN  NaN   NaN      NaN   \n",
       "3                          NaN        NaN  NaN   NaN      NaN   \n",
       "4                          NaN        NaN  NaN   NaN      NaN   \n",
       "...                        ...        ...  ...   ...      ...   \n",
       "68835                      NaN        NaN  NaN   NaN      NaN   \n",
       "68836                      NaN        NaN  NaN   NaN      NaN   \n",
       "68837                      NaN        NaN  NaN   NaN      NaN   \n",
       "68838                      NaN        NaN  NaN   NaN      NaN   \n",
       "68839                      NaN        NaN  NaN   NaN      NaN   \n",
       "\n",
       "      ولتاژ اسمی ورودی توضیحات دوربین برند مادربرد  \n",
       "0                  NaN            NaN  NaN     NaN  \n",
       "1                  NaN            NaN  NaN     NaN  \n",
       "2                  NaN            NaN  NaN     NaN  \n",
       "3                  NaN            NaN  NaN     NaN  \n",
       "4                  NaN            NaN  NaN     NaN  \n",
       "...                ...            ...  ...     ...  \n",
       "68835              NaN            NaN  NaN     NaN  \n",
       "68836              NaN            NaN  NaN     NaN  \n",
       "68837              NaN            NaN  NaN     NaN  \n",
       "68838              NaN            NaN  NaN     NaN  \n",
       "68839              NaN            NaN  NaN     NaN  \n",
       "\n",
       "[68840 rows x 1482 columns]"
      ]
     },
     "execution_count": 5,
     "metadata": {},
     "output_type": "execute_result"
    }
   ],
   "source": [
    "df"
   ]
  },
  {
   "cell_type": "code",
   "execution_count": 6,
   "id": "f1c9da00-de33-4860-acee-4dc9ff1dbd0a",
   "metadata": {},
   "outputs": [],
   "source": [
    "def add_data(x):\n",
    "    dictionary_extracted = ast.literal_eval(x[\"product_description\"])\n",
    "    for item in dictionary_extracted.keys():\n",
    "        x[item] = dictionary_extracted[item]\n",
    "    return x  \n",
    "\n",
    "df = df.apply(add_data, axis=1)"
   ]
  },
  {
   "cell_type": "code",
   "execution_count": 7,
   "id": "c8c91277-2d8d-4580-ba85-5b995e9c8a18",
   "metadata": {},
   "outputs": [],
   "source": [
    "# #####Remove bad data from price\n",
    "# min_value_count = (df['price'] == df['price'].min()).sum()\n",
    "# min_value_count\n",
    "# under_1000_count = (df['price'] < 1000).sum()\n",
    "# df[(df['price'] < 5000) & (df['price'] > 0)]\n",
    "\n",
    "# df[(df['price'] < 10000) & (df['price'] > 0)][['دسته بندی','price']]"
   ]
  },
  {
   "cell_type": "markdown",
   "id": "98fca588-f6d8-4aab-9599-8dfd443b349b",
   "metadata": {
    "jp-MarkdownHeadingCollapsed": true
   },
   "source": [
    "### Find Category with few data or can be merged"
   ]
  },
  {
   "cell_type": "code",
   "execution_count": 8,
   "id": "ce345c4e-681f-4bf5-9243-de1d50c6dcdc",
   "metadata": {},
   "outputs": [
    {
     "name": "stdout",
     "output_type": "stream",
     "text": [
      "Completely null columns:\n",
      "Index([], dtype='object')\n"
     ]
    }
   ],
   "source": [
    "completely_null_columns = df.columns[df.isnull().all()]\n",
    "\n",
    "# Display the completely null columns\n",
    "print(\"Completely null columns:\")\n",
    "print(completely_null_columns)\n"
   ]
  },
  {
   "cell_type": "code",
   "execution_count": 9,
   "id": "2f93dccd-7ea3-400c-87dd-a11b82f15cd1",
   "metadata": {},
   "outputs": [
    {
     "name": "stdout",
     "output_type": "stream",
     "text": [
      "Number of distinct categories with row_count under 20: 28\n"
     ]
    }
   ],
   "source": [
    "grouped_data = df.groupby('دسته بندی').size().reset_index(name='row_count')\n",
    "grouped_data.sort_values(by='row_count', ascending=True)\n",
    "\n",
    "# Filter categories where row_count is under 20\n",
    "under_20_categories = grouped_data[grouped_data['row_count'] < 20]\n",
    "\n",
    "# Count the number of distinct categories\n",
    "num_under_20_categories = under_20_categories.shape[0]\n",
    "\n",
    "# Display the result\n",
    "print(f\"Number of distinct categories with row_count under 20: {num_under_20_categories}\")"
   ]
  },
  {
   "cell_type": "code",
   "execution_count": 10,
   "id": "979a6ba2-bb4a-4bd4-84d9-71ecc6bf257a",
   "metadata": {},
   "outputs": [],
   "source": [
    "# Filter rows with row_count under 20\n",
    "category_column = 'دسته بندی'\n",
    "categories_to_remove = grouped_data[grouped_data['row_count'] < 20][category_column].tolist()\n",
    "df = df[~df[category_column].isin(categories_to_remove)]"
   ]
  },
  {
   "cell_type": "code",
   "execution_count": 11,
   "id": "8f38f11f-d291-49b0-8717-92b5421c004c",
   "metadata": {},
   "outputs": [
    {
     "name": "stdout",
     "output_type": "stream",
     "text": [
      "Category= هود لنز\n",
      "Common Columns: ['id', 'product_description', 'price', 'ویژگی ها', 'دسته بندی', 'برند']\n",
      "Duplicate Categories: ['کابل رابط دوربین', 'شارژر باتری لیتیومی دوربین', 'بند آویز و کمربند دوربین']\n",
      "\n",
      "\n",
      "Category= کابل رابط دوربین\n",
      "Common Columns: ['id', 'product_description', 'price', 'ویژگی ها', 'دسته بندی', 'برند']\n",
      "Duplicate Categories: ['هود لنز', 'شارژر باتری لیتیومی دوربین', 'بند آویز و کمربند دوربین']\n",
      "\n",
      "\n",
      "Category= شارژر باتری لیتیومی دوربین\n",
      "Common Columns: ['id', 'product_description', 'price', 'ویژگی ها', 'دسته بندی', 'برند']\n",
      "Duplicate Categories: ['هود لنز', 'کابل رابط دوربین', 'بند آویز و کمربند دوربین']\n",
      "\n",
      "\n",
      "Category= بند آویز و کمربند دوربین\n",
      "Common Columns: ['id', 'product_description', 'price', 'ویژگی ها', 'دسته بندی', 'برند']\n",
      "Duplicate Categories: ['هود لنز', 'کابل رابط دوربین', 'شارژر باتری لیتیومی دوربین']\n",
      "\n",
      "\n"
     ]
    }
   ],
   "source": [
    "### پیدا کردن دسته بندی هایی که ستون یکسان دارند\n",
    "\n",
    "category_column = 'دسته بندی'  # Replace with the actual column name\n",
    "\n",
    "# Create a list to store the common columns for each category\n",
    "common_columns_by_category = {}\n",
    "\n",
    "# Iterate over each category\n",
    "for category in df[category_column].unique():\n",
    "    # Filter the DataFrame for the current category\n",
    "    category_df = df[df[category_column] == category]\n",
    "\n",
    "    # Identify columns with non-null values for the current category\n",
    "    non_null_columns = category_df.columns[category_df.notnull().any()].tolist()\n",
    "\n",
    "    # Store the non-null columns in the dictionary\n",
    "    common_columns_by_category[category] = non_null_columns\n",
    "\n",
    "# Initialize a dictionary to store duplicate categories and their indices\n",
    "duplicate_categories = {}\n",
    "\n",
    "# Loop through each category and its non-null columns\n",
    "for category1, columns1 in common_columns_by_category.items():\n",
    "    for category2, columns2 in common_columns_by_category.items():\n",
    "        if category1 != category2 and set(columns1) == set(columns2):\n",
    "            # Found two categories with the same non-null columns\n",
    "            if category1 not in duplicate_categories:\n",
    "                duplicate_categories[category1] = {\"categories\": [category2], \"columns\": columns1}\n",
    "            else:\n",
    "                duplicate_categories[category1][\"categories\"].append(category2)\n",
    "\n",
    "# Display the results\n",
    "for category, data in duplicate_categories.items():\n",
    "    print(f\"Category= {category}\")\n",
    "    print(f\"Common Columns: {data['columns']}\")\n",
    "    print(f\"Duplicate Categories: {data['categories']}\")\n",
    "    print(\"\\n\")\n",
    "\n"
   ]
  },
  {
   "cell_type": "code",
   "execution_count": 12,
   "id": "46f53864-f576-46d5-b9ca-5ab4d6de0096",
   "metadata": {},
   "outputs": [],
   "source": [
    "### مرج کردن دسته بندی هایی که ستون های مشترک داره\n",
    "\n",
    "category_column = 'دسته بندی'  # Replace with the actual column name\n",
    "\n",
    "# Loop through each category and its duplicate categories\n",
    "for category1, data1 in duplicate_categories.items():\n",
    "    for category2 in data1[\"categories\"]:\n",
    "        # Get the indices of rows to update\n",
    "        indices_to_update = df[df[category_column].isin([category1, category2])].index\n",
    "\n",
    "        # Create a new concatenated list of categories\n",
    "        concatenated_categories = sorted(set([category1] + data1['categories']))\n",
    "\n",
    "        # Set the new concatenated list of categories for the selected rows\n",
    "        df.loc[indices_to_update, category_column] = ', '.join(concatenated_categories)"
   ]
  },
  {
   "cell_type": "code",
   "execution_count": 13,
   "id": "736c5388-3e35-4781-b118-21aec0e82698",
   "metadata": {},
   "outputs": [],
   "source": [
    "#### پیدا کردن دسته هایی که ستون های مشترک زیادی دارن و قیمت ها شبیه است میخواهیم مرج کنیم تا تعداد دسته ها کمتر شود"
   ]
  },
  {
   "cell_type": "code",
   "execution_count": 14,
   "id": "d642e354-0a3a-46a6-b53b-3fea6345e29f",
   "metadata": {},
   "outputs": [],
   "source": [
    "category_column = 'دسته بندی' \n",
    "\n",
    "# Group by category and get the column indices with at least one non-null value\n",
    "non_null_columns_indices_by_category = df.groupby(category_column).apply(lambda x: np.nonzero(x.notnull().any().values)[0].tolist())\n",
    "\n",
    "# Calculate the threshold for common indices\n",
    "common_indices_threshold = 0.8\n",
    "\n",
    "# List to store pairs of categories with common indices\n",
    "common_indices_categories = []\n",
    "\n",
    "# Iterate through each pair of categories and find those with at least 80% common indices\n",
    "for i, (category1, indices1) in enumerate(non_null_columns_indices_by_category.items()):\n",
    "    for category2, indices2 in list(non_null_columns_indices_by_category.items())[i+1:]:\n",
    "        common_indices = set(indices1) & set(indices2)\n",
    "        common_indices_percentage = len(common_indices) / max(len(indices1), len(indices2))\n",
    "        \n",
    "        if common_indices_percentage >= common_indices_threshold:\n",
    "            common_indices_categories.append((category1, category2, common_indices_percentage))\n",
    "\n",
    "# # Display the result\n",
    "# for category1, category2, common_indices_percentage in common_indices_categories:\n",
    "#     print(f\"For Categories {category1} and {category2}, Common Indices Percentage: {common_indices_percentage:.2%}\")\n"
   ]
  },
  {
   "cell_type": "code",
   "execution_count": 15,
   "id": "50e453a6-4f68-431b-a8df-721c39afb4b3",
   "metadata": {},
   "outputs": [
    {
     "name": "stdout",
     "output_type": "stream",
     "text": [
      "Category Group 1: {'آداپتور و کانورتر', 'محافظ صفحه نمایش تبلت'}\n",
      "Category Group 2: {'لوازم جانبی ساعت و مچ بند هوشمند', 'لوازم جانبی دوربین های امنیتی و نظارتی', 'سر سه پایه', 'قطعات جانبی موبایل و تبلت', 'قطعات یدکی موبایل و تبلت', 'سافت باکس', 'لوازم جانبی عکاسی و فیلمبرداری', 'کیف دوربین', 'سایر لوازم جانبی لپ تاپ', 'لوازم جانبی پروژکتور', 'لوازم جانبی تجهیزات ذخیره سازی', 'قلم لمسی (Stylus)', 'لوازم جانبی قطعات کامپیوتر', 'لوازم جانبی مک بوک', 'کیف و کاور لپ تاپ', 'سایر لوازم جانبی دوربین', 'ابزار شبکه', 'رفلکتور'}\n",
      "Category Group 3: {'لوازم جانبی پرینتر لیبل زن و حرارتی', 'استند تبلت', 'بند آویز و کمربند دوربین, شارژر باتری لیتیومی دوربین, هود لنز, کابل رابط دوربین', 'سایر لوازم جانبی تلفن', 'کیت تمیز کننده'}\n",
      "Category Group 4: {'تونر', 'کارتریج و جوهر مخزن', 'سایر لوازم جانبی پرینتر'}\n",
      "Category Group 5: {'هدست تلفن', 'دسته بازی'}\n",
      "Category Group 6: {'کابل صوتی و تصویری', 'کابل افزایش طول'}\n"
     ]
    }
   ],
   "source": [
    "# Assuming common_indices_categories is the list containing pairs of categories with common indices\n",
    "# Each entry is a tuple (category1, category2, common_indices_percentage)\n",
    "\n",
    "# Initialize a dictionary to store categories and their corresponding common indices\n",
    "category_indices_dict = {}\n",
    "\n",
    "# Populate the dictionary\n",
    "for category1, category2, common_indices_percentage in common_indices_categories:\n",
    "    if category1 not in category_indices_dict:\n",
    "        category_indices_dict[category1] = set()\n",
    "    if category2 not in category_indices_dict:\n",
    "        category_indices_dict[category2] = set()\n",
    "\n",
    "    category_indices_dict[category1].add(category2)\n",
    "    category_indices_dict[category2].add(category1)\n",
    "\n",
    "# Function to find groups of categories with at least 80% common indices\n",
    "def find_category_groups(category_indices_dict, common_indices_threshold):\n",
    "    visited = set()\n",
    "    groups = []\n",
    "\n",
    "    def dfs(category, group):\n",
    "        if category not in visited:\n",
    "            visited.add(category)\n",
    "            group.add(category)\n",
    "\n",
    "            for neighbor in category_indices_dict[category]:\n",
    "                if neighbor not in visited:\n",
    "                    dfs(neighbor, group)\n",
    "\n",
    "    for category in category_indices_dict:\n",
    "        if category not in visited:\n",
    "            group = set()\n",
    "            dfs(category, group)\n",
    "            groups.append(group)\n",
    "\n",
    "    return groups\n",
    "\n",
    "# Find groups of categories with at least 80% common indices\n",
    "common_indices_threshold = 0.8\n",
    "category_groups = find_category_groups(category_indices_dict, common_indices_threshold)\n",
    "\n",
    "# Display the result\n",
    "for i, group in enumerate(category_groups, start=1):\n",
    "    print(f\"Category Group {i}: {group}\")\n"
   ]
  },
  {
   "cell_type": "code",
   "execution_count": 16,
   "id": "48a0893f-9cc6-4992-94f9-b8a009e33ca0",
   "metadata": {},
   "outputs": [
    {
     "name": "stdout",
     "output_type": "stream",
     "text": [
      "Category Group 1:\n",
      "  Category: آداپتور و کانورتر, Mean Price: 1275750.850086655\n",
      "  Category: محافظ صفحه نمایش تبلت, Mean Price: 2562332.2580645164\n",
      "Category Group 2:\n",
      "  Category: لوازم جانبی ساعت و مچ بند هوشمند, Mean Price: 1478301.5612552806\n",
      "  Category: لوازم جانبی دوربین های امنیتی و نظارتی, Mean Price: 3112737.81106383\n",
      "  Category: سر سه پایه, Mean Price: 4744690.844840764\n",
      "  Category: قطعات جانبی موبایل و تبلت, Mean Price: 3752516.6915682503\n",
      "  Category: قطعات یدکی موبایل و تبلت, Mean Price: 9740543.190677967\n",
      "  Category: سافت باکس, Mean Price: 11376601.295165394\n",
      "  Category: لوازم جانبی عکاسی و فیلمبرداری, Mean Price: 3644301.716724537\n",
      "  Category: کیف دوربین, Mean Price: 7787458.846994535\n",
      "  Category: سایر لوازم جانبی لپ تاپ, Mean Price: 8038317.404688464\n",
      "  Category: لوازم جانبی پروژکتور, Mean Price: 2752922.944598338\n",
      "  Category: لوازم جانبی تجهیزات ذخیره سازی, Mean Price: 4147039.2330129268\n",
      "  Category: قلم لمسی (Stylus), Mean Price: 3439680.76911315\n",
      "  Category: لوازم جانبی قطعات کامپیوتر, Mean Price: 4450425.085736863\n",
      "  Category: لوازم جانبی مک بوک, Mean Price: 14786645.467128027\n",
      "  Category: کیف و کاور لپ تاپ, Mean Price: 225907.95546129375\n",
      "  Category: سایر لوازم جانبی دوربین, Mean Price: 1877317.6892230576\n",
      "  Category: ابزار شبکه, Mean Price: 2670296.233829831\n",
      "  Category: رفلکتور, Mean Price: 8979248.0\n",
      "Category Group 3:\n",
      "  Category: لوازم جانبی پرینتر لیبل زن و حرارتی, Mean Price: 1737922.0171428572\n",
      "  Category: استند تبلت, Mean Price: 3881700.777777778\n",
      "  Category: بند آویز و کمربند دوربین, شارژر باتری لیتیومی دوربین, هود لنز, کابل رابط دوربین, Mean Price: 2601719.6810810813\n",
      "  Category: سایر لوازم جانبی تلفن, Mean Price: 976222.2147239264\n",
      "  Category: کیت تمیز کننده, Mean Price: 2510552.751124438\n",
      "Category Group 4:\n",
      "  Category: تونر, Mean Price: 6292235.547368421\n",
      "  Category: کارتریج و جوهر مخزن, Mean Price: 6737430.113345521\n",
      "  Category: سایر لوازم جانبی پرینتر, Mean Price: 6292235.547368421\n",
      "Category Group 5:\n",
      "  Category: هدست تلفن, Mean Price: 4488465.348717948\n",
      "  Category: دسته بازی, Mean Price: 17302260.86956522\n",
      "Category Group 6:\n",
      "  Category: کابل صوتی و تصویری, Mean Price: 1343557.187755102\n",
      "  Category: کابل افزایش طول, Mean Price: 1917710.2079510703\n"
     ]
    }
   ],
   "source": [
    "# Find price similarity in each category\n",
    "category_column = 'دسته بندی'  # Replace with the actual column name\n",
    "price_column = 'price'  # Replace with the actual column name\n",
    "\n",
    "# Create a dictionary to store the mean price for each category\n",
    "category_mean_prices = {}\n",
    "\n",
    "# Populate the dictionary with mean prices for each category\n",
    "for category, group in category_indices_dict.items():\n",
    "    category_mean_prices[category] = df[df[category_column].isin(group)][price_column].mean()\n",
    "\n",
    "# Display the mean prices for each category within each group\n",
    "for i, group in enumerate(category_groups, start=1):\n",
    "    print(f\"Category Group {i}:\")\n",
    "    for category in group:\n",
    "        mean_price = category_mean_prices.get(category, \"N/A\")\n",
    "        print(f\"  Category: {category}, Mean Price: {mean_price}\")\n"
   ]
  },
  {
   "cell_type": "code",
   "execution_count": 17,
   "id": "aa1deb42-2fe0-4dbf-bf7a-e80ea119b46e",
   "metadata": {},
   "outputs": [],
   "source": [
    "category_column = 'دسته بندی'  \n",
    "\n",
    "# Iterate through each group and update the values in the 'دسته بندی' column\n",
    "for i, group in enumerate(category_groups, start=1):\n",
    "    concatenated_categories = \"_\".join(sorted(df[df[category_column].isin(group)][category_column].unique()))\n",
    "    df.loc[df[category_column].isin(group), category_column] = concatenated_categories"
   ]
  },
  {
   "cell_type": "code",
   "execution_count": 18,
   "id": "a2ce3678-f810-42c4-98c1-dabc66490a5d",
   "metadata": {},
   "outputs": [],
   "source": [
    "#Drop full null"
   ]
  },
  {
   "cell_type": "code",
   "execution_count": 19,
   "id": "9937e7a5-0340-4e37-a41c-c2aea4a46ab2",
   "metadata": {},
   "outputs": [
    {
     "name": "stdout",
     "output_type": "stream",
     "text": [
      "Completely null columns:\n",
      "Index(['سرویسهای IP', 'حساسیت برد', 'کانکتور Mini SAS', 'تعدادپورت GSM/3G',\n",
      "       'پورت شبکه', 'توضیحات امکانات', 'پروتکل مدیریت',\n",
      "       'توضیحات چاپ دوروی خودکار', 'وضوح چاپ', 'پورت USB',\n",
      "       ...\n",
      "       'درجه چرخش', 'ابعاد برد', 'سازگار با دستگاههای', 'زمان شارژ خازن',\n",
      "       'تعداد VoIP Trunks', 'پورت مدیریت تحت شبکه RJ45', 'کلاس منبع تغذیه',\n",
      "       'تعداد نمایشگر قابل نصب', 'مشخصات مواد مصرفی', 'جنس صندلی'],\n",
      "      dtype='object', length=153)\n"
     ]
    }
   ],
   "source": [
    "# Assuming new_df is your DataFrame\n",
    "completely_null_columns = df.columns[df.isnull().all()]\n",
    "\n",
    "# Display the completely null columns\n",
    "print(\"Completely null columns:\")\n",
    "print(completely_null_columns)\n"
   ]
  },
  {
   "cell_type": "code",
   "execution_count": 20,
   "id": "0e604460-db26-41d4-a6b7-593dfeb17bb3",
   "metadata": {},
   "outputs": [],
   "source": [
    "df = df.drop(columns=completely_null_columns)"
   ]
  },
  {
   "cell_type": "markdown",
   "id": "284d9b5a-e97e-4f3c-aed8-9a481b198eb2",
   "metadata": {
    "jp-MarkdownHeadingCollapsed": true
   },
   "source": [
    "#### Delete columns with less than 5 data"
   ]
  },
  {
   "cell_type": "code",
   "execution_count": 21,
   "id": "20d4dcda-88c3-4cf6-a8cb-d390b7e7ad58",
   "metadata": {},
   "outputs": [
    {
     "name": "stdout",
     "output_type": "stream",
     "text": [
      "73\n"
     ]
    }
   ],
   "source": [
    "# Iterate through each column and count non-null values\n",
    "columns_under_5_samples = []\n",
    "for column in df.columns:\n",
    "    non_null_count = df[column].count()\n",
    "    if non_null_count < 5:\n",
    "        columns_under_5_samples.append(column)\n",
    "print(len(columns_under_5_samples))"
   ]
  },
  {
   "cell_type": "code",
   "execution_count": 22,
   "id": "b8b7ae87-1c37-4b8e-9be5-78d4e9e8118d",
   "metadata": {},
   "outputs": [],
   "source": [
    "df = df.drop(columns=columns_under_5_samples)"
   ]
  },
  {
   "cell_type": "code",
   "execution_count": 23,
   "id": "147bbfaa-0cdf-4433-a33c-632dc5fd1c10",
   "metadata": {},
   "outputs": [],
   "source": [
    "# df=df_filtered_dropped.copy()"
   ]
  },
  {
   "cell_type": "markdown",
   "id": "eb62d2d1-2f02-4828-933a-bdc8d66e9d0e",
   "metadata": {
    "jp-MarkdownHeadingCollapsed": true
   },
   "source": [
    "### Find Similar Category name to merge"
   ]
  },
  {
   "cell_type": "code",
   "execution_count": 24,
   "id": "301503fb-2c20-435f-93f6-464a4412ee83",
   "metadata": {},
   "outputs": [],
   "source": [
    "# Set a similarity threshold for identifying similar column names\n",
    "similarity_threshold = 90\n",
    "\n",
    "# Get all combinations of column names\n",
    "column_combinations = list(combinations(df.columns, 2))\n",
    "\n",
    "# Find similar column name pairs\n",
    "similar_columns = [(col1, col2) for col1, col2 in column_combinations if fuzz.ratio(col1, col2) > similarity_threshold]"
   ]
  },
  {
   "cell_type": "code",
   "execution_count": 25,
   "id": "1ae890a1-4f3c-41e3-aba6-fb6378e01bf6",
   "metadata": {},
   "outputs": [],
   "source": [
    "# # Print similar column name pairs\n",
    "# print(\"Similar Column Name Pairs:\")\n",
    "# for col1, col2 in similar_columns:\n",
    "#     print(f\"column1='{col1}'\")\n",
    "#     print(f\"column2='{col2}'\\n\")"
   ]
  },
  {
   "cell_type": "code",
   "execution_count": 26,
   "id": "1bc669d7-ba92-4469-8453-0f16c2a84a37",
   "metadata": {},
   "outputs": [],
   "source": [
    "def group_similar_columns(similar_columns, df):\n",
    "    grouped_columns = []\n",
    "\n",
    "    for col1, col2 in similar_columns:\n",
    "        # Find rows where at least one of the two columns has values\n",
    "        mask = df[col1].notnull() & df[col2].notnull()\n",
    "\n",
    "        # Check if there are at most 5 rows where both columns have values\n",
    "        if 0 <= sum(mask) <= 3:\n",
    "            # Check if the columns are already in a group\n",
    "            col1_group = [group for group in grouped_columns if col1 in group]\n",
    "            col2_group = [group for group in grouped_columns if col2 in group]\n",
    "\n",
    "            # If neither column is in a group, create a new group\n",
    "            if not col1_group and not col2_group:\n",
    "                grouped_columns.append([col1, col2])\n",
    "            # If one column is already in a group, add the other column to that group\n",
    "            elif col1_group and not col2_group:\n",
    "                col1_group[0].append(col2)\n",
    "            elif col2_group and not col1_group:\n",
    "                col2_group[0].append(col1)\n",
    "            elif col1_group != col2_group:\n",
    "                # If both columns are in different groups, merge the groups\n",
    "                grouped_columns.remove(col1_group[0])\n",
    "                grouped_columns.remove(col2_group[0])\n",
    "                grouped_columns.append(col1_group[0] + col2_group[0])\n",
    "\n",
    "        elif 3 < sum(mask) <= 5:\n",
    "            # Check if 'دسته بندی' values are the same for both columns\n",
    "            category_mask = df.loc[mask, 'دسته بندی'].nunique() == 1\n",
    "\n",
    "            if category_mask:\n",
    "                # Check if the columns are already in a group\n",
    "                col1_group = [group for group in grouped_columns if col1 in group]\n",
    "                col2_group = [group for group in grouped_columns if col2 in group]\n",
    "\n",
    "                # If neither column is in a group, create a new group\n",
    "                if not col1_group and not col2_group:\n",
    "                    grouped_columns.append([col1, col2])\n",
    "                # If one column is already in a group, add the other column to that group\n",
    "                elif col1_group and not col2_group:\n",
    "                    col1_group[0].append(col2)\n",
    "                elif col2_group and not col1_group:\n",
    "                    col2_group[0].append(col1)\n",
    "                elif col1_group != col2_group:\n",
    "                    # If both columns are in different groups, merge the groups\n",
    "                    grouped_columns.remove(col1_group[0])\n",
    "                    grouped_columns.remove(col2_group[0])\n",
    "                    grouped_columns.append(col1_group[0] + col2_group[0])\n",
    "\n",
    "    return grouped_columns\n",
    "\n",
    "grouped_columns = group_similar_columns(similar_columns, df)"
   ]
  },
  {
   "cell_type": "code",
   "execution_count": 27,
   "id": "fb2c9aac-1c5b-4b96-a15e-296cfa5b0524",
   "metadata": {},
   "outputs": [],
   "source": [
    "# # Print the resulting groups\n",
    "# for group in grouped_columns:\n",
    "#     print(f\"Group: {group}\")\n",
    "#     print(\"\\n\")"
   ]
  },
  {
   "cell_type": "code",
   "execution_count": 28,
   "id": "759bef58-4fec-492e-a208-cfccb73c200f",
   "metadata": {},
   "outputs": [
    {
     "name": "stdout",
     "output_type": "stream",
     "text": [
      "['کارتهای حافظهی قابل پشتیبانی', 'کارت حافظه قابل پشتیبانی']\n",
      "کارت قابل پشتیبانی_Merged\n"
     ]
    },
    {
     "name": "stderr",
     "output_type": "stream",
     "text": [
      "/tmp/ipykernel_15062/752076284.py:32: PerformanceWarning: DataFrame is highly fragmented.  This is usually the result of calling `frame.insert` many times, which has poor performance.  Consider joining all columns at once using pd.concat(axis=1) instead. To get a de-fragmented frame, use `newframe = frame.copy()`\n",
      "  df[new_column_name] = df.loc[mask, group].astype(str).apply(lambda row: ' | '.join(cell for cell in row if cell != 'nan'), axis=1)\n"
     ]
    },
    {
     "name": "stdout",
     "output_type": "stream",
     "text": [
      "['نوع صفحه نمایش', 'نوع صفحهنمایش']\n",
      "نوع صفحهنمایش_Merged\n"
     ]
    },
    {
     "name": "stderr",
     "output_type": "stream",
     "text": [
      "/tmp/ipykernel_15062/752076284.py:32: PerformanceWarning: DataFrame is highly fragmented.  This is usually the result of calling `frame.insert` many times, which has poor performance.  Consider joining all columns at once using pd.concat(axis=1) instead. To get a de-fragmented frame, use `newframe = frame.copy()`\n",
      "  df[new_column_name] = df.loc[mask, group].astype(str).apply(lambda row: ' | '.join(cell for cell in row if cell != 'nan'), axis=1)\n"
     ]
    },
    {
     "name": "stdout",
     "output_type": "stream",
     "text": [
      "['قابلیتهای کیس', 'قابلیتهای کپی']\n",
      "قابلیتهای ک_Merged\n"
     ]
    },
    {
     "name": "stderr",
     "output_type": "stream",
     "text": [
      "/tmp/ipykernel_15062/752076284.py:32: PerformanceWarning: DataFrame is highly fragmented.  This is usually the result of calling `frame.insert` many times, which has poor performance.  Consider joining all columns at once using pd.concat(axis=1) instead. To get a de-fragmented frame, use `newframe = frame.copy()`\n",
      "  df[new_column_name] = df.loc[mask, group].astype(str).apply(lambda row: ' | '.join(cell for cell in row if cell != 'nan'), axis=1)\n"
     ]
    },
    {
     "name": "stdout",
     "output_type": "stream",
     "text": [
      "['تعداد پورت USB Type-C', 'تعداد پورت USB Type-c']\n",
      "تعداد پورت USB Type-_Merged\n"
     ]
    },
    {
     "name": "stderr",
     "output_type": "stream",
     "text": [
      "/tmp/ipykernel_15062/752076284.py:32: PerformanceWarning: DataFrame is highly fragmented.  This is usually the result of calling `frame.insert` many times, which has poor performance.  Consider joining all columns at once using pd.concat(axis=1) instead. To get a de-fragmented frame, use `newframe = frame.copy()`\n",
      "  df[new_column_name] = df.loc[mask, group].astype(str).apply(lambda row: ' | '.join(cell for cell in row if cell != 'nan'), axis=1)\n"
     ]
    },
    {
     "name": "stdout",
     "output_type": "stream",
     "text": [
      "['بیشینه ی ارتفاع', 'بیشینه ارتفاع']\n",
      "بیشینه  ارتفاع_Merged\n"
     ]
    },
    {
     "name": "stderr",
     "output_type": "stream",
     "text": [
      "/tmp/ipykernel_15062/752076284.py:32: PerformanceWarning: DataFrame is highly fragmented.  This is usually the result of calling `frame.insert` many times, which has poor performance.  Consider joining all columns at once using pd.concat(axis=1) instead. To get a de-fragmented frame, use `newframe = frame.copy()`\n",
      "  df[new_column_name] = df.loc[mask, group].astype(str).apply(lambda row: ' | '.join(cell for cell in row if cell != 'nan'), axis=1)\n"
     ]
    },
    {
     "name": "stdout",
     "output_type": "stream",
     "text": [
      "['مشخصات بلندگو', 'مشخصات بلندگوها']\n",
      "مشخصات بلندگو_Merged\n"
     ]
    },
    {
     "name": "stderr",
     "output_type": "stream",
     "text": [
      "/tmp/ipykernel_15062/752076284.py:32: PerformanceWarning: DataFrame is highly fragmented.  This is usually the result of calling `frame.insert` many times, which has poor performance.  Consider joining all columns at once using pd.concat(axis=1) instead. To get a de-fragmented frame, use `newframe = frame.copy()`\n",
      "  df[new_column_name] = df.loc[mask, group].astype(str).apply(lambda row: ' | '.join(cell for cell in row if cell != 'nan'), axis=1)\n"
     ]
    },
    {
     "name": "stdout",
     "output_type": "stream",
     "text": [
      "['قابلیتهای ویژه', 'قابلیت های ویژه']\n",
      "قابلیتهای ویژه_Merged\n"
     ]
    },
    {
     "name": "stderr",
     "output_type": "stream",
     "text": [
      "/tmp/ipykernel_15062/752076284.py:32: PerformanceWarning: DataFrame is highly fragmented.  This is usually the result of calling `frame.insert` many times, which has poor performance.  Consider joining all columns at once using pd.concat(axis=1) instead. To get a de-fragmented frame, use `newframe = frame.copy()`\n",
      "  df[new_column_name] = df.loc[mask, group].astype(str).apply(lambda row: ' | '.join(cell for cell in row if cell != 'nan'), axis=1)\n"
     ]
    },
    {
     "name": "stdout",
     "output_type": "stream",
     "text": [
      "['بارکدهای قابل پشتیبانی', 'باندهای قابل پشتیبانی']\n",
      "بادهای قابل پشتیبانی_Merged\n"
     ]
    },
    {
     "name": "stderr",
     "output_type": "stream",
     "text": [
      "/tmp/ipykernel_15062/752076284.py:32: PerformanceWarning: DataFrame is highly fragmented.  This is usually the result of calling `frame.insert` many times, which has poor performance.  Consider joining all columns at once using pd.concat(axis=1) instead. To get a de-fragmented frame, use `newframe = frame.copy()`\n",
      "  df[new_column_name] = df.loc[mask, group].astype(str).apply(lambda row: ' | '.join(cell for cell in row if cell != 'nan'), axis=1)\n"
     ]
    },
    {
     "name": "stdout",
     "output_type": "stream",
     "text": [
      "['هدر USB 3.0', 'هدر USB 3.1', 'هدر USB 3.2']\n",
      "هدر USB 3._Merged\n"
     ]
    },
    {
     "name": "stderr",
     "output_type": "stream",
     "text": [
      "/tmp/ipykernel_15062/752076284.py:32: PerformanceWarning: DataFrame is highly fragmented.  This is usually the result of calling `frame.insert` many times, which has poor performance.  Consider joining all columns at once using pd.concat(axis=1) instead. To get a de-fragmented frame, use `newframe = frame.copy()`\n",
      "  df[new_column_name] = df.loc[mask, group].astype(str).apply(lambda row: ' | '.join(cell for cell in row if cell != 'nan'), axis=1)\n"
     ]
    },
    {
     "name": "stdout",
     "output_type": "stream",
     "text": [
      "['سازگاری با', 'سازگار با']\n",
      "سازگار با_Merged\n"
     ]
    },
    {
     "name": "stderr",
     "output_type": "stream",
     "text": [
      "/tmp/ipykernel_15062/752076284.py:32: PerformanceWarning: DataFrame is highly fragmented.  This is usually the result of calling `frame.insert` many times, which has poor performance.  Consider joining all columns at once using pd.concat(axis=1) instead. To get a de-fragmented frame, use `newframe = frame.copy()`\n",
      "  df[new_column_name] = df.loc[mask, group].astype(str).apply(lambda row: ' | '.join(cell for cell in row if cell != 'nan'), axis=1)\n"
     ]
    },
    {
     "name": "stdout",
     "output_type": "stream",
     "text": [
      "['تعداد پورت USB 3.1', 'تعداد پورت USB 3.2']\n",
      "تعداد پورت USB 3._Merged\n"
     ]
    },
    {
     "name": "stderr",
     "output_type": "stream",
     "text": [
      "/tmp/ipykernel_15062/752076284.py:32: PerformanceWarning: DataFrame is highly fragmented.  This is usually the result of calling `frame.insert` many times, which has poor performance.  Consider joining all columns at once using pd.concat(axis=1) instead. To get a de-fragmented frame, use `newframe = frame.copy()`\n",
      "  df[new_column_name] = df.loc[mask, group].astype(str).apply(lambda row: ' | '.join(cell for cell in row if cell != 'nan'), axis=1)\n"
     ]
    },
    {
     "name": "stdout",
     "output_type": "stream",
     "text": [
      "['ویژگی ها', 'ویژگیها']\n",
      "ویژگیها_Merged\n"
     ]
    },
    {
     "name": "stderr",
     "output_type": "stream",
     "text": [
      "/tmp/ipykernel_15062/752076284.py:32: PerformanceWarning: DataFrame is highly fragmented.  This is usually the result of calling `frame.insert` many times, which has poor performance.  Consider joining all columns at once using pd.concat(axis=1) instead. To get a de-fragmented frame, use `newframe = frame.copy()`\n",
      "  df[new_column_name] = df.loc[mask, group].astype(str).apply(lambda row: ' | '.join(cell for cell in row if cell != 'nan'), axis=1)\n"
     ]
    },
    {
     "name": "stdout",
     "output_type": "stream",
     "text": [
      "['بیشینه تحمل وزن', 'بیشینه ی تحمل وزن']\n",
      "بیشینه  تحمل وزن_Merged\n"
     ]
    },
    {
     "name": "stderr",
     "output_type": "stream",
     "text": [
      "/tmp/ipykernel_15062/752076284.py:32: PerformanceWarning: DataFrame is highly fragmented.  This is usually the result of calling `frame.insert` many times, which has poor performance.  Consider joining all columns at once using pd.concat(axis=1) instead. To get a de-fragmented frame, use `newframe = frame.copy()`\n",
      "  df[new_column_name] = df.loc[mask, group].astype(str).apply(lambda row: ' | '.join(cell for cell in row if cell != 'nan'), axis=1)\n"
     ]
    },
    {
     "name": "stdout",
     "output_type": "stream",
     "text": [
      "['فرکانس پردازنده مرکزی', 'فرکانس پردازندهی مرکزی']\n",
      "فرکانس پردازنده مرکزی_Merged\n"
     ]
    },
    {
     "name": "stderr",
     "output_type": "stream",
     "text": [
      "/tmp/ipykernel_15062/752076284.py:32: PerformanceWarning: DataFrame is highly fragmented.  This is usually the result of calling `frame.insert` many times, which has poor performance.  Consider joining all columns at once using pd.concat(axis=1) instead. To get a de-fragmented frame, use `newframe = frame.copy()`\n",
      "  df[new_column_name] = df.loc[mask, group].astype(str).apply(lambda row: ' | '.join(cell for cell in row if cell != 'nan'), axis=1)\n"
     ]
    },
    {
     "name": "stdout",
     "output_type": "stream",
     "text": [
      "['تعداد پورت USB 4.0', 'تعداد پورت USB 3.0', 'تعداد پورت USB 2.0']\n",
      "تعداد پورت USB .0_Merged\n"
     ]
    },
    {
     "name": "stderr",
     "output_type": "stream",
     "text": [
      "/tmp/ipykernel_15062/752076284.py:32: PerformanceWarning: DataFrame is highly fragmented.  This is usually the result of calling `frame.insert` many times, which has poor performance.  Consider joining all columns at once using pd.concat(axis=1) instead. To get a de-fragmented frame, use `newframe = frame.copy()`\n",
      "  df[new_column_name] = df.loc[mask, group].astype(str).apply(lambda row: ' | '.join(cell for cell in row if cell != 'nan'), axis=1)\n"
     ]
    },
    {
     "name": "stdout",
     "output_type": "stream",
     "text": [
      "['پردازنده گرافیکی', 'پردازندهی گرافیکی']\n",
      "پردازنده گرافیکی_Merged\n"
     ]
    },
    {
     "name": "stderr",
     "output_type": "stream",
     "text": [
      "/tmp/ipykernel_15062/752076284.py:32: PerformanceWarning: DataFrame is highly fragmented.  This is usually the result of calling `frame.insert` many times, which has poor performance.  Consider joining all columns at once using pd.concat(axis=1) instead. To get a de-fragmented frame, use `newframe = frame.copy()`\n",
      "  df[new_column_name] = df.loc[mask, group].astype(str).apply(lambda row: ' | '.join(cell for cell in row if cell != 'nan'), axis=1)\n"
     ]
    },
    {
     "name": "stdout",
     "output_type": "stream",
     "text": [
      "['سایر قابلیتها و توضیحات', 'سایر قابلیت ها و توضیحات']\n",
      "سایر قابلیتها و توضیحات_Merged\n"
     ]
    },
    {
     "name": "stderr",
     "output_type": "stream",
     "text": [
      "/tmp/ipykernel_15062/752076284.py:32: PerformanceWarning: DataFrame is highly fragmented.  This is usually the result of calling `frame.insert` many times, which has poor performance.  Consider joining all columns at once using pd.concat(axis=1) instead. To get a de-fragmented frame, use `newframe = frame.copy()`\n",
      "  df[new_column_name] = df.loc[mask, group].astype(str).apply(lambda row: ' | '.join(cell for cell in row if cell != 'nan'), axis=1)\n"
     ]
    },
    {
     "name": "stdout",
     "output_type": "stream",
     "text": [
      "['سرعت پرینتر', 'سرعت پرینت']\n",
      "سرعت پرینت_Merged\n"
     ]
    },
    {
     "name": "stderr",
     "output_type": "stream",
     "text": [
      "/tmp/ipykernel_15062/752076284.py:32: PerformanceWarning: DataFrame is highly fragmented.  This is usually the result of calling `frame.insert` many times, which has poor performance.  Consider joining all columns at once using pd.concat(axis=1) instead. To get a de-fragmented frame, use `newframe = frame.copy()`\n",
      "  df[new_column_name] = df.loc[mask, group].astype(str).apply(lambda row: ' | '.join(cell for cell in row if cell != 'nan'), axis=1)\n"
     ]
    },
    {
     "name": "stdout",
     "output_type": "stream",
     "text": [
      "['رزولوشن فکس', 'رزولوشن عکس']\n",
      "رزولوشن کس_Merged\n"
     ]
    },
    {
     "name": "stderr",
     "output_type": "stream",
     "text": [
      "/tmp/ipykernel_15062/752076284.py:32: PerformanceWarning: DataFrame is highly fragmented.  This is usually the result of calling `frame.insert` many times, which has poor performance.  Consider joining all columns at once using pd.concat(axis=1) instead. To get a de-fragmented frame, use `newframe = frame.copy()`\n",
      "  df[new_column_name] = df.loc[mask, group].astype(str).apply(lambda row: ' | '.join(cell for cell in row if cell != 'nan'), axis=1)\n"
     ]
    },
    {
     "name": "stdout",
     "output_type": "stream",
     "text": [
      "['قابلیت ها', 'قابلیتها']\n",
      "قابلیتها_Merged\n"
     ]
    },
    {
     "name": "stderr",
     "output_type": "stream",
     "text": [
      "/tmp/ipykernel_15062/752076284.py:32: PerformanceWarning: DataFrame is highly fragmented.  This is usually the result of calling `frame.insert` many times, which has poor performance.  Consider joining all columns at once using pd.concat(axis=1) instead. To get a de-fragmented frame, use `newframe = frame.copy()`\n",
      "  df[new_column_name] = df.loc[mask, group].astype(str).apply(lambda row: ' | '.join(cell for cell in row if cell != 'nan'), axis=1)\n"
     ]
    },
    {
     "name": "stdout",
     "output_type": "stream",
     "text": [
      "['نسخهی بلوتوث', 'نسخه بلوتوث']\n",
      "نسخه بلوتوث_Merged\n"
     ]
    },
    {
     "name": "stderr",
     "output_type": "stream",
     "text": [
      "/tmp/ipykernel_15062/752076284.py:32: PerformanceWarning: DataFrame is highly fragmented.  This is usually the result of calling `frame.insert` many times, which has poor performance.  Consider joining all columns at once using pd.concat(axis=1) instead. To get a de-fragmented frame, use `newframe = frame.copy()`\n",
      "  df[new_column_name] = df.loc[mask, group].astype(str).apply(lambda row: ' | '.join(cell for cell in row if cell != 'nan'), axis=1)\n"
     ]
    },
    {
     "name": "stdout",
     "output_type": "stream",
     "text": [
      "['سایرقابلیتها', 'سایر قابلیتها']\n",
      "سایرقابلیتها_Merged\n"
     ]
    },
    {
     "name": "stderr",
     "output_type": "stream",
     "text": [
      "/tmp/ipykernel_15062/752076284.py:32: PerformanceWarning: DataFrame is highly fragmented.  This is usually the result of calling `frame.insert` many times, which has poor performance.  Consider joining all columns at once using pd.concat(axis=1) instead. To get a de-fragmented frame, use `newframe = frame.copy()`\n",
      "  df[new_column_name] = df.loc[mask, group].astype(str).apply(lambda row: ' | '.join(cell for cell in row if cell != 'nan'), axis=1)\n"
     ]
    }
   ],
   "source": [
    "def find_common_subsequence(strings):\n",
    "    # Find common prefix among a list of strings\n",
    "    common_prefix = os.path.commonprefix(strings)\n",
    "\n",
    "    # Find common suffix among a list of strings (reversed)\n",
    "    reversed_strings = [s[::-1] for s in strings]\n",
    "    common_suffix_reversed = os.path.commonprefix(reversed_strings)[::-1]\n",
    "\n",
    "    # The common subsequence is the combination of common prefix and common suffix\n",
    "    common_subsequence = common_prefix + common_suffix_reversed\n",
    "\n",
    "    if common_subsequence:\n",
    "        return common_subsequence\n",
    "    else:\n",
    "        return None\n",
    "\n",
    "\n",
    "def merge_columns_within_groups(df, grouped_columns):\n",
    "    merged_values = {}\n",
    "\n",
    "    for group in grouped_columns:\n",
    "        print(group)\n",
    "        # Find rows where at least one column in the group has values\n",
    "        mask = df[group].notnull().any(axis=1)\n",
    "\n",
    "        # Use the common substring of the column names as the new column name\n",
    "        common_substring = find_common_subsequence(group)\n",
    "        new_column_name = f\"{common_substring}_Merged\" if common_substring else 'Merged'\n",
    "        print(new_column_name)\n",
    "\n",
    "        # Concatenate values with ' | ' separator, excluding NaN values using apply\n",
    "        df[new_column_name] = df.loc[mask, group].astype(str).apply(lambda row: ' | '.join(cell for cell in row if cell != 'nan'), axis=1)\n",
    "\n",
    "        # Store merged values for all columns in the group\n",
    "        # merged_values[new_column_name] = df.loc[mask, new_column_name].tolist()\n",
    "\n",
    "        # Drop the original columns\n",
    "        df.drop(columns=group, inplace=True, errors='ignore')  # Ignore errors if columns don't exist\n",
    "\n",
    "    # Concatenate all columns at once to improve performance\n",
    "    df = pd.concat([df, df[new_column_name]], axis=1)\n",
    "    df.drop(columns=[new_column_name], inplace=True, errors='ignore')\n",
    "\n",
    "    return df#, merged_values\n",
    "\n",
    "# df, merged_values = merge_columns_within_groups(df, grouped_columns)\n",
    "df = merge_columns_within_groups(df, grouped_columns)\n"
   ]
  },
  {
   "cell_type": "markdown",
   "id": "4d0cc89a-1de5-4a48-b242-25985ac29d63",
   "metadata": {
    "jp-MarkdownHeadingCollapsed": true
   },
   "source": [
    "### Work on each column to find wrong data(s:1-using bert, 2-using clustering)"
   ]
  },
  {
   "cell_type": "markdown",
   "id": "23093758-e451-4014-aa7b-5e21c634dfd8",
   "metadata": {
    "jp-MarkdownHeadingCollapsed": true
   },
   "source": [
    "#### Bert(but the solution was not chosen)"
   ]
  },
  {
   "cell_type": "code",
   "execution_count": 29,
   "id": "3e3059ab-3fba-499b-9398-874912ddbf2d",
   "metadata": {},
   "outputs": [],
   "source": [
    "# # Load model directly\n",
    "# from transformers import AutoTokenizer, AutoModel\n",
    "\n",
    "# tokenizer = AutoTokenizer.from_pretrained(\"m3hrdadfi/bert-fa-base-uncased-wikitriplet-mean-tokens\")\n",
    "# model = AutoModel.from_pretrained(\"m3hrdadfi/bert-fa-base-uncased-wikitriplet-mean-tokens\")"
   ]
  },
  {
   "cell_type": "code",
   "execution_count": 30,
   "id": "3dda1182-5f53-467e-a18c-5a165eb2f605",
   "metadata": {},
   "outputs": [],
   "source": [
    "# # Load model directly\n",
    "# from transformers import AutoTokenizer, AutoModelForMaskedLM\n",
    "\n",
    "# tokenizer = AutoTokenizer.from_pretrained(\"HooshvareLab/bert-base-parsbert-uncased\")\n",
    "# model = AutoModelForMaskedLM.from_pretrained(\"HooshvareLab/bert-base-parsbert-uncased\")"
   ]
  },
  {
   "cell_type": "code",
   "execution_count": 31,
   "id": "06fc30b3-4355-49ed-b541-31dfc5fb73f3",
   "metadata": {},
   "outputs": [],
   "source": [
    "# import pandas as pd\n",
    "# from sentence_transformers import SentenceTransformer\n",
    "# import numpy as np\n",
    "\n",
    "# def calculate_semantic_similarity(dataframe, column_name):\n",
    "#     # Load a pre-trained Farsi language model\n",
    "#     model = SentenceTransformer('m3hrdadfi/bert-fa-base-uncased-wikitriplet-mean-tokens')\n",
    "#     # model = SentenceTransformer('HooshvareLab/bert-base-parsbert-uncased')\n",
    "\n",
    "#     # Encode the column name\n",
    "#     column_name_embedding = model.encode(column_name)\n",
    "\n",
    "#     # Encode each value in the specified column\n",
    "#     dataframe['embedding'] = dataframe[column_name].apply(lambda x: model.encode(x))\n",
    "\n",
    "#     # Calculate cosine similarity between each value and the column name\n",
    "#     dataframe['similarity'] = dataframe['embedding'].apply(lambda x: np.dot(column_name_embedding, x) / (np.linalg.norm(column_name_embedding) * np.linalg.norm(x)))\n",
    "\n",
    "#     return dataframe[[column_name, 'similarity']]\n",
    "\n",
    "\n",
    "# result_df = calculate_semantic_similarity(test_df, 'وزن')\n"
   ]
  },
  {
   "cell_type": "code",
   "execution_count": 32,
   "id": "8ca8261c-493e-44fc-b265-d0c5f0631fec",
   "metadata": {},
   "outputs": [],
   "source": [
    "# result_df[(result_df['similarity'] > 0.55) & (result_df['similarity'] < 0.6)]"
   ]
  },
  {
   "cell_type": "markdown",
   "id": "c8bd9af3-1f43-4d1a-86c9-4d54627b370a",
   "metadata": {
    "jp-MarkdownHeadingCollapsed": true
   },
   "source": [
    "#### Using Kmeans and cluster the vlues to find true data"
   ]
  },
  {
   "cell_type": "code",
   "execution_count": null,
   "id": "e1405c2b-76cf-41b7-aae9-d7e8a0200c1a",
   "metadata": {},
   "outputs": [],
   "source": [
    "###Nans cluster manually\n",
    "\n",
    "def cluster_column(df, column, k=3):\n",
    "\n",
    "    # Check if the column contains lists\n",
    "    df[column] = df[column].apply(lambda x: tuple(x) if isinstance(x, list) else x)\n",
    "\n",
    "        \n",
    "    # Convert the column to string to handle non-string entries\n",
    "    string_data = df[column].astype(str)\n",
    "    \n",
    "    # Identify entries that contain at least one numeric character\n",
    "    mixed_mask = string_data.str.contains('\\d')\n",
    "    \n",
    "    # Convert mixed entries to numeric values\n",
    "    numeric_values = pd.to_numeric(df.loc[mixed_mask, column], errors='coerce')\n",
    "    \n",
    "    # Use LabelEncoder to convert strings to numerical labels for non-numeric entries\n",
    "    label_encoder = LabelEncoder()\n",
    "    encoded_data = label_encoder.fit_transform(string_data[~mixed_mask])\n",
    "    \n",
    "    # Reshape the data for K-means\n",
    "    data = encoded_data.reshape(-1, 1)\n",
    "    \n",
    "    # Initialize the KMeans model\n",
    "    kmeans = KMeans(n_clusters=k, random_state=42, n_init=10)\n",
    "    \n",
    "    # Fit the model to the non-numeric data\n",
    "    kmeans.fit(data)\n",
    "    \n",
    "    # Add the cluster labels to the DataFrame for non-numeric entries\n",
    "    df[column + '_cluster_labels'] = -1  # Initialize with -1\n",
    "    df.loc[~mixed_mask, column + '_cluster_labels'] = kmeans.labels_\n",
    "\n",
    "for column in df.columns[3:]:\n",
    "    print(f\"Column Number: {df.columns.get_loc(column)}\")\n",
    "    cluster_column(df, column)\n",
    "    \n",
    "    # # Check if cluster -1 has values for the current column\n",
    "    cluster_label_column = column + '_cluster_labels'\n",
    "    # if cluster_label_column in df.columns:\n",
    "    cluster_minus_one_values = df[df[cluster_label_column] == -1][column]\n",
    "    if not cluster_minus_one_values.empty:\n",
    "        print(\"----- There are Unique values in cluster -1: -----\")\n",
    "        num_clusters = len(df[cluster_label_column].unique()) - 1\n",
    "        \n",
    "        print(f\"Column '{column}' values in cluster -1:\")\n",
    "        if isinstance(cluster_minus_one_values.iloc[0], list):\n",
    "            # Convert lists to tuples for uniqueness\n",
    "            unique_values_cluster_minus_one = cluster_minus_one_values.apply(tuple).unique()\n",
    "            print(unique_values_cluster_minus_one)\n",
    "        else:\n",
    "            print(cluster_minus_one_values)\n",
    "    else:\n",
    "        num_clusters = len(df[cluster_label_column].unique())\n",
    "    \n",
    "    # Print values for each cluster\n",
    "    for cluster_label in range(num_clusters):\n",
    "        cluster_values = df[df[cluster_label_column] == cluster_label][column]\n",
    "        if not cluster_values.empty:\n",
    "            print(f\"Column '{column}' values in cluster {cluster_label}:\")\n",
    "            print(cluster_values)\n",
    "            print()\n",
    "            \n",
    "    # df.drop([cluster_label_column], axis=1, inplace=True)\n",
    "    print(\"\\n--------------------------------------\")"
   ]
  },
  {
   "cell_type": "markdown",
   "id": "9404f7ae-dcb0-49d4-b816-7d12a7e168f4",
   "metadata": {},
   "source": [
    "### Save csv file"
   ]
  },
  {
   "cell_type": "code",
   "execution_count": 34,
   "id": "0dae473d-f11e-4b10-9689-bb788b3da751",
   "metadata": {},
   "outputs": [],
   "source": [
    "df.to_csv('data_step1.csv', index=False)"
   ]
  }
 ],
 "metadata": {
  "kernelspec": {
   "display_name": "My Virtual Environment",
   "language": "python",
   "name": "myenv"
  },
  "language_info": {
   "codemirror_mode": {
    "name": "ipython",
    "version": 3
   },
   "file_extension": ".py",
   "mimetype": "text/x-python",
   "name": "python",
   "nbconvert_exporter": "python",
   "pygments_lexer": "ipython3",
   "version": "3.11.6"
  }
 },
 "nbformat": 4,
 "nbformat_minor": 5
}
